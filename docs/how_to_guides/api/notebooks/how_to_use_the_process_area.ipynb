{
 "cells": [
  {
   "metadata": {},
   "cell_type": "markdown",
   "source": [
    "# How to use the process area\n",
    "\n",
    "Follow along this step-by-step guide to learn about the [ProcessArea](https://geospaitial-lab.github.io/aviary/api_reference/process_area) class.\n",
    "\n",
    "To avoid any issues, run the cells in order and don't skip any cells.<br />\n",
    "If something seems off, just restart the runtime and run the cells again."
   ],
   "id": "e8054d57233f622a"
  },
  {
   "metadata": {},
   "cell_type": "markdown",
   "source": [
    "# Install aviary\n",
    "\n",
    "Install aviary in the current runtime using pip."
   ],
   "id": "413cddbdf56df1b"
  },
  {
   "metadata": {},
   "cell_type": "code",
   "outputs": [],
   "execution_count": null,
   "source": "! pip install -q geospaitial-lab-aviary",
   "id": "b43552dec4732393"
  },
  {
   "metadata": {},
   "cell_type": "markdown",
   "source": "# Import aviary and verify the installation",
   "id": "1c02e0f8020f0f19"
  },
  {
   "metadata": {},
   "cell_type": "code",
   "outputs": [],
   "execution_count": null,
   "source": [
    "import aviary\n",
    "\n",
    "print(aviary.__version__)"
   ],
   "id": "8781e75ecabd13ed"
  },
  {
   "metadata": {},
   "cell_type": "markdown",
   "source": [
    "# Create a process area\n",
    "\n",
    "A process area specifies the area of interest by a set of coordinates of the bottom left corner of each tile.\n",
    "\n",
    "By default, a new instance of the `ProcessArea` class has no coordinates.<br />\n",
    "You can access the coordinates of the process area with the `coordinates` attribute,\n",
    "which is a numpy array of shape (n, 2) and data type int32."
   ],
   "id": "af5b536943c89066"
  },
  {
   "metadata": {},
   "cell_type": "code",
   "outputs": [],
   "execution_count": null,
   "source": [
    "process_area = aviary.ProcessArea()\n",
    "\n",
    "print(process_area.coordinates)"
   ],
   "id": "de0ef6265ae6f29f"
  },
  {
   "metadata": {},
   "cell_type": "markdown",
   "source": "If you already have the coordinates, you can pass them to the initializer of the `ProcessArea` class.",
   "id": "16d060b89fb78989"
  },
  {
   "metadata": {},
   "cell_type": "code",
   "outputs": [],
   "execution_count": null,
   "source": [
    "import numpy as np\n",
    "\n",
    "coordinates = np.array(\n",
    "    [\n",
    "        [363084, 5715326],\n",
    "        [363212, 5715326],\n",
    "        [363084, 5715454],\n",
    "        [363212, 5715454],\n",
    "    ],\n",
    "    dtype=np.int32,\n",
    ")\n",
    "process_area = aviary.ProcessArea(coordinates=coordinates)\n",
    "\n",
    "print(process_area.coordinates)"
   ],
   "id": "fe9af035f47ed08e"
  },
  {
   "metadata": {},
   "cell_type": "markdown",
   "source": [
    "We can visualize the process area with [folium](https://python-visualization.github.io/folium/latest) for a better understanding.\n",
    "\n",
    "Install folium in the current runtime using pip."
   ],
   "id": "5752b1b402296031"
  },
  {
   "metadata": {},
   "cell_type": "code",
   "outputs": [],
   "execution_count": null,
   "source": "! pip install -q folium",
   "id": "b6f95ca421838484"
  },
  {
   "metadata": {},
   "cell_type": "markdown",
   "source": "We define a function `visualize_process_area`, so that we can reuse it in the next steps.",
   "id": "bee485c3acc45b1b"
  },
  {
   "metadata": {},
   "cell_type": "code",
   "outputs": [],
   "execution_count": null,
   "source": [
    "import folium\n",
    "import geopandas as gpd\n",
    "\n",
    "\n",
    "def visualize_process_area(\n",
    "    process_area: aviary.ProcessArea,\n",
    ") -> folium.Map:\n",
    "    # Convert the process area to a geodataframe\n",
    "    gdf = process_area.to_gdf(\n",
    "        epsg_code=25832,\n",
    "        tile_size=128,\n",
    "    )\n",
    "\n",
    "    # Compute the centroid of the process area\n",
    "    centroid = gpd.GeoDataFrame(\n",
    "        geometry=[gdf.union_all().centroid],\n",
    "        crs=gdf.crs,\n",
    "    )\n",
    "\n",
    "    # Convert the centroid to EPSG:4326 (folium requires EPSG:4326)\n",
    "    centroid_epsg_4326 = centroid.to_crs(epsg=4326)\n",
    "\n",
    "    # Compute the location of the folium map\n",
    "    location_epsg_4326 = [\n",
    "        centroid_epsg_4326.geometry.y.mean(),\n",
    "        centroid_epsg_4326.geometry.x.mean(),\n",
    "    ]\n",
    "\n",
    "    # Convert the process area to EPSG:4326 (folium requires EPSG:4326)\n",
    "    gdf_epsg_4326 = gdf.to_crs(epsg=4326)\n",
    "\n",
    "    # Create a folium map\n",
    "    folium_map = folium.Map(\n",
    "        location=location_epsg_4326,\n",
    "        zoom_start=16,\n",
    "        tiles='OpenStreetMap',\n",
    "    )\n",
    "\n",
    "    # Define the style of the process area\n",
    "    style_function = lambda x: {\n",
    "        'fillOpacity': .2,\n",
    "        'color': 'black',\n",
    "        'weight': 2,\n",
    "    }\n",
    "\n",
    "    # Add the process area to the folium map\n",
    "    folium.GeoJson(gdf_epsg_4326, style_function=style_function).add_to(folium_map)\n",
    "\n",
    "    return folium_map"
   ],
   "id": "55b7909dc1a339ec"
  },
  {
   "metadata": {},
   "cell_type": "markdown",
   "source": "Now we can visualize the process area.",
   "id": "e98e6c3e333e75d4"
  },
  {
   "metadata": {},
   "cell_type": "code",
   "outputs": [],
   "execution_count": null,
   "source": [
    "folium_map = visualize_process_area(process_area)\n",
    "\n",
    "folium_map"
   ],
   "id": "8961b4b5c9338a1c"
  },
  {
   "metadata": {},
   "cell_type": "markdown",
   "source": "You can set the coordinates of an already created process area with the `coordinates` attribute.",
   "id": "25b61baab516c518"
  },
  {
   "metadata": {},
   "cell_type": "code",
   "outputs": [],
   "execution_count": null,
   "source": [
    "coordinates = np.array(\n",
    "    [\n",
    "        [363084, 5715326],\n",
    "        [363212, 5715326],\n",
    "    ],\n",
    "    dtype=np.int32,\n",
    ")\n",
    "process_area.coordinates = coordinates\n",
    "\n",
    "print(process_area.coordinates)"
   ],
   "id": "5ac0801321b1dbae"
  },
  {
   "metadata": {},
   "cell_type": "markdown",
   "source": "Visualize the process area.",
   "id": "dabf1ddfee1c5918"
  },
  {
   "metadata": {},
   "cell_type": "code",
   "outputs": [],
   "execution_count": null,
   "source": [
    "folium_map = visualize_process_area(process_area)\n",
    "\n",
    "folium_map"
   ],
   "id": "1eaa316b02ebf136"
  },
  {
   "metadata": {},
   "cell_type": "markdown",
   "source": [
    "## Create a process area from a bounding box\n",
    "\n",
    "You can create a process area from a bounding box with the `from_bounding_box` class method."
   ],
   "id": "3a72ff5a5430dc"
  },
  {
   "metadata": {},
   "cell_type": "code",
   "outputs": [],
   "execution_count": null,
   "source": [
    "bounding_box = aviary.BoundingBox(\n",
    "    x_min=363084,\n",
    "    y_min=5715326,\n",
    "    x_max=363340,\n",
    "    y_max=5715582,\n",
    ")\n",
    "process_area = process_area.from_bounding_box(\n",
    "    bounding_box=bounding_box,\n",
    "    tile_size=128,\n",
    "    quantize=False,\n",
    ")\n",
    "\n",
    "print(process_area.coordinates)"
   ],
   "id": "5d44ee55e7de3105"
  },
  {
   "metadata": {},
   "cell_type": "markdown",
   "source": "Visualize the process area.",
   "id": "d25dfb07a23a05cd"
  },
  {
   "metadata": {},
   "cell_type": "code",
   "outputs": [],
   "execution_count": null,
   "source": [
    "folium_map = visualize_process_area(process_area)\n",
    "\n",
    "folium_map"
   ],
   "id": "44cb8ae128211ecd"
  },
  {
   "metadata": {},
   "cell_type": "markdown",
   "source": [
    "## Create a process area from a geodataframe\n",
    "\n",
    "You can create a process area from a geodataframe with the `from_gdf` class method."
   ],
   "id": "a52abfcf9dec6030"
  },
  {
   "metadata": {},
   "cell_type": "code",
   "outputs": [],
   "execution_count": null,
   "source": [
    "from shapely.geometry import box\n",
    "\n",
    "gdf = gpd.GeoDataFrame(\n",
    "    geometry=[box(363084, 5715326, 363340, 5715582)],\n",
    "    crs='EPSG:25832',\n",
    ")\n",
    "process_area = process_area.from_gdf(\n",
    "    gdf=gdf,\n",
    "    tile_size=128,\n",
    "    quantize=False,\n",
    ")\n",
    "\n",
    "print(process_area.coordinates)"
   ],
   "id": "8c4f19de246e990"
  },
  {
   "metadata": {},
   "cell_type": "markdown",
   "source": "Visualize the process area.",
   "id": "9b542199ef9bfd5c"
  },
  {
   "metadata": {},
   "cell_type": "code",
   "outputs": [],
   "execution_count": null,
   "source": [
    "folium_map = visualize_process_area(process_area)\n",
    "\n",
    "folium_map"
   ],
   "id": "2d674153e2e62ed6"
  },
  {
   "metadata": {},
   "cell_type": "markdown",
   "source": "The geodataframe may contain multiple polygons, e.g. the administrative areas of Gelsenkirchen and Recklinghausen.",
   "id": "d211d0912c1deb84"
  },
  {
   "metadata": {},
   "cell_type": "code",
   "outputs": [],
   "execution_count": null,
   "source": [
    "url = 'TODO'\n",
    "gdf = gpd.read_file(url)\n",
    "process_area = process_area.from_gdf(\n",
    "    gdf=gdf,\n",
    "    tile_size=128,\n",
    "    quantize=True,\n",
    ")\n",
    "\n",
    "print(process_area.coordinates)"
   ],
   "id": "a8a2242ca24ffdb0"
  },
  {
   "metadata": {},
   "cell_type": "markdown",
   "source": "Visualize the process area.",
   "id": "aa0f712375596b1f"
  },
  {
   "metadata": {},
   "cell_type": "code",
   "outputs": [],
   "execution_count": null,
   "source": [
    "folium_map = visualize_process_area(process_area)\n",
    "\n",
    "# Convert the administrative areas to EPSG:4326 (folium requires EPSG:4326)\n",
    "gdf_epsg_4326 = gdf.to_crs(epsg=4326)\n",
    "\n",
    "# Define the style of the administrative areas (red)\n",
    "style_function = lambda x: {\n",
    "    'fillOpacity': 0,\n",
    "    'color': '#FF595E',\n",
    "    'weight': 2,\n",
    "}\n",
    "\n",
    "# Add the administrative areas to the folium map\n",
    "folium.GeoJson(gdf_epsg_4326, style_function=style_function).add_to(folium_map)\n",
    "\n",
    "folium_map"
   ],
   "id": "b20e1aeda794b8ea"
  },
  {
   "metadata": {},
   "cell_type": "markdown",
   "source": [
    "## Create a process area from a json string\n",
    "\n",
    "You can create a process area from a json string with the `from_json` class method."
   ],
   "id": "21e8b950efe9c6d"
  },
  {
   "metadata": {},
   "cell_type": "code",
   "outputs": [],
   "execution_count": null,
   "source": [
    "json_string = (\n",
    "    '[[363084, 5715326], '\n",
    "    '[363212, 5715326], '\n",
    "    '[363084, 5715454], '\n",
    "    '[363212, 5715454]]'\n",
    ")\n",
    "process_area = process_area.from_json(json_string=json_string)\n",
    "\n",
    "print(process_area.coordinates)"
   ],
   "id": "d2507f7a73d87f71"
  },
  {
   "metadata": {},
   "cell_type": "markdown",
   "source": "Visualize the process area.",
   "id": "2f74dd9a4bdd0f01"
  },
  {
   "metadata": {},
   "cell_type": "code",
   "outputs": [],
   "execution_count": null,
   "source": [
    "folium_map = visualize_process_area(process_area)\n",
    "\n",
    "folium_map"
   ],
   "id": "378f1d7212d507a5"
  },
  {
   "metadata": {},
   "cell_type": "markdown",
   "source": [
    "# Add or subtract process areas\n",
    "\n",
    "You can add two process areas with the `+` operator.<br />\n",
    "If the process areas overlap, the resulting process area will contain the union of the two process areas."
   ],
   "id": "5a21f361234e3d47"
  },
  {
   "metadata": {},
   "cell_type": "code",
   "outputs": [],
   "execution_count": null,
   "source": [
    "coordinates_1 = np.array(\n",
    "    [\n",
    "        [363084, 5715326],\n",
    "        [363212, 5715326],\n",
    "        [363084, 5715454],\n",
    "        [363212, 5715454],\n",
    "    ],\n",
    "    dtype=np.int32,\n",
    ")\n",
    "process_area_1 = aviary.ProcessArea(coordinates=coordinates_1)\n",
    "\n",
    "coordinates_2 = np.array(\n",
    "    [\n",
    "        [363212, 5715454],\n",
    "        [363340, 5715454],\n",
    "        [363212, 5715582],\n",
    "        [363340, 5715582],\n",
    "    ],\n",
    "    dtype=np.int32,\n",
    ")\n",
    "process_area_2 = aviary.ProcessArea(coordinates=coordinates_2)\n",
    "\n",
    "print(process_area_1.coordinates)\n",
    "print(process_area_2.coordinates)"
   ],
   "id": "157a81a8b5b11807"
  },
  {
   "metadata": {},
   "cell_type": "code",
   "outputs": [],
   "execution_count": null,
   "source": [
    "process_area = process_area_1 + process_area_2\n",
    "\n",
    "print(process_area.coordinates)"
   ],
   "id": "b22a5f6468f546f0"
  },
  {
   "metadata": {},
   "cell_type": "markdown",
   "source": "Visualize the process area.",
   "id": "2d97f6698263d92c"
  },
  {
   "metadata": {},
   "cell_type": "code",
   "outputs": [],
   "execution_count": null,
   "source": [
    "folium_map = visualize_process_area(process_area)\n",
    "\n",
    "# Convert the first process area to a geodataframe\n",
    "gdf_1 = process_area_1.to_gdf(\n",
    "    epsg_code=25832,\n",
    "    tile_size=128,\n",
    ")\n",
    "\n",
    "# Convert the first process area to EPSG:4326 (folium requires EPSG:4326)\n",
    "gdf_1_epsg_4326 = gdf_1.to_crs(epsg=4326)\n",
    "\n",
    "# Define the style of the first process area (red)\n",
    "style_function_1 = lambda x: {\n",
    "    'fillOpacity': 0,\n",
    "    'color': '#FF595E',\n",
    "    'weight': 2,\n",
    "}\n",
    "\n",
    "# Add the first process area to the folium map\n",
    "folium.GeoJson(gdf_1_epsg_4326, style_function=style_function_1).add_to(folium_map)\n",
    "\n",
    "# Convert the second process area to a geodataframe\n",
    "gdf_2 = process_area_2.to_gdf(\n",
    "    epsg_code=25832,\n",
    "    tile_size=128,\n",
    ")\n",
    "\n",
    "# Convert the second process area to EPSG:4326 (folium requires EPSG:4326)\n",
    "gdf_2_epsg_4326 = gdf_2.to_crs(epsg=4326)\n",
    "\n",
    "# Define the style of the second process area (blue)\n",
    "style_function_2 = lambda x: {\n",
    "    'fillOpacity': 0,\n",
    "    'color': '#1982C4',\n",
    "    'weight': 2,\n",
    "}\n",
    "\n",
    "# Add the second process area to the folium map\n",
    "folium.GeoJson(gdf_2_epsg_4326, style_function=style_function_2).add_to(folium_map)\n",
    "\n",
    "folium_map"
   ],
   "id": "ed31cf05b9b2da24"
  },
  {
   "metadata": {},
   "cell_type": "markdown",
   "source": "You can subtract two process areas with the `-` operator.",
   "id": "8e09772a8215673c"
  },
  {
   "metadata": {},
   "cell_type": "code",
   "outputs": [],
   "execution_count": null,
   "source": [
    "coordinates_1 = np.array(\n",
    "    [\n",
    "        [363084, 5715326],\n",
    "        [363212, 5715326],\n",
    "        [363084, 5715454],\n",
    "        [363212, 5715454],\n",
    "    ],\n",
    "    dtype=np.int32,\n",
    ")\n",
    "process_area_1 = aviary.ProcessArea(coordinates=coordinates_1)\n",
    "\n",
    "coordinates_2 = np.array(\n",
    "    [\n",
    "        [363212, 5715454],\n",
    "        [363340, 5715454],\n",
    "        [363212, 5715582],\n",
    "        [363340, 5715582],\n",
    "    ],\n",
    "    dtype=np.int32,\n",
    ")\n",
    "process_area_2 = aviary.ProcessArea(coordinates=coordinates_2)\n",
    "\n",
    "print(process_area_1.coordinates)\n",
    "print(process_area_2.coordinates)"
   ],
   "id": "ca719ef56ee88ac5"
  },
  {
   "metadata": {},
   "cell_type": "code",
   "outputs": [],
   "execution_count": null,
   "source": [
    "process_area = process_area_1 - process_area_2\n",
    "\n",
    "print(process_area.coordinates)"
   ],
   "id": "b429ca09d4a1f1cc"
  },
  {
   "metadata": {},
   "cell_type": "markdown",
   "source": "Visualize the process area.",
   "id": "fcec15afc1d57769"
  },
  {
   "metadata": {},
   "cell_type": "code",
   "outputs": [],
   "execution_count": null,
   "source": [
    "folium_map = visualize_process_area(process_area)\n",
    "\n",
    "# Convert the first process area to a geodataframe\n",
    "gdf_1 = process_area_1.to_gdf(\n",
    "    epsg_code=25832,\n",
    "    tile_size=128,\n",
    ")\n",
    "\n",
    "# Convert the first process area to EPSG:4326 (folium requires EPSG:4326)\n",
    "gdf_1_epsg_4326 = gdf_1.to_crs(epsg=4326)\n",
    "\n",
    "# Define the style of the first process area (red)\n",
    "style_function_1 = lambda x: {\n",
    "    'fillOpacity': 0,\n",
    "    'color': '#FF595E',\n",
    "    'weight': 2,\n",
    "}\n",
    "\n",
    "# Add the first process area to the folium map\n",
    "folium.GeoJson(gdf_1_epsg_4326, style_function=style_function_1).add_to(folium_map)\n",
    "\n",
    "# Convert the second process area to a geodataframe\n",
    "gdf_2 = process_area_2.to_gdf(\n",
    "    epsg_code=25832,\n",
    "    tile_size=128,\n",
    ")\n",
    "\n",
    "# Convert the second process area to EPSG:4326 (folium requires EPSG:4326)\n",
    "gdf_2_epsg_4326 = gdf_2.to_crs(epsg=4326)\n",
    "\n",
    "# Define the style of the second process area (blue)\n",
    "style_function_2 = lambda x: {\n",
    "    'fillOpacity': 0,\n",
    "    'color': '#1982C4',\n",
    "    'weight': 2,\n",
    "}\n",
    "\n",
    "# Add the second process area to the folium map\n",
    "folium.GeoJson(gdf_2_epsg_4326, style_function=style_function_2).add_to(folium_map)\n",
    "\n",
    "folium_map"
   ],
   "id": "872fcf7e84aea7f4"
  },
  {
   "metadata": {},
   "cell_type": "markdown",
   "source": [
    "# Append coordinates to the process area\n",
    "\n",
    "You can append coordinates to the process area with the `append` method."
   ],
   "id": "b6c9805f5c68d279"
  },
  {
   "metadata": {},
   "cell_type": "code",
   "outputs": [],
   "execution_count": null,
   "source": [
    "coordinates = np.array(\n",
    "    [\n",
    "        [363084, 5715326],\n",
    "        [363212, 5715326],\n",
    "        [363084, 5715454],\n",
    "        [363212, 5715454],\n",
    "    ],\n",
    "    dtype=np.int32,\n",
    ")\n",
    "process_area = aviary.ProcessArea(coordinates=coordinates)\n",
    "\n",
    "print(process_area.coordinates)"
   ],
   "id": "804de31ca2385cbf"
  },
  {
   "metadata": {},
   "cell_type": "code",
   "outputs": [],
   "execution_count": null,
   "source": [
    "process_area = process_area.append((363340, 5715582))\n",
    "\n",
    "print(process_area.coordinates)"
   ],
   "id": "e4d0473d3d45a8b7"
  },
  {
   "metadata": {},
   "cell_type": "markdown",
   "source": "Visualize the process area.",
   "id": "6948ee61257c95f6"
  },
  {
   "metadata": {},
   "cell_type": "code",
   "outputs": [],
   "execution_count": null,
   "source": [
    "folium_map = visualize_process_area(process_area)\n",
    "\n",
    "folium_map"
   ],
   "id": "a40afd93fd368538"
  },
  {
   "metadata": {},
   "cell_type": "markdown",
   "source": "If you want to append coordinates that already exist, the process area will not change.",
   "id": "7073e00103ee1566"
  },
  {
   "metadata": {},
   "cell_type": "code",
   "outputs": [],
   "execution_count": null,
   "source": [
    "process_area = process_area.append((363340, 5715582))\n",
    "\n",
    "print(process_area.coordinates)"
   ],
   "id": "c97b62efadccbbf1"
  },
  {
   "metadata": {},
   "cell_type": "markdown",
   "source": [
    "# Chunk the process area\n",
    "\n",
    "You can chunk the process area into multiple process areas with the `chunk` method.<br />\n",
    "This might be useful when you want to run multiple pipelines in distributed environments."
   ],
   "id": "ac7228934831283f"
  },
  {
   "metadata": {},
   "cell_type": "code",
   "outputs": [],
   "execution_count": null,
   "source": [
    "coordinates = np.array(\n",
    "    [\n",
    "        [363084, 5715326],\n",
    "        [363212, 5715326],\n",
    "        [363084, 5715454],\n",
    "        [363212, 5715454],\n",
    "    ],\n",
    "    dtype=np.int32,\n",
    ")\n",
    "process_area = aviary.ProcessArea(coordinates=coordinates)\n",
    "\n",
    "print(process_area.coordinates)"
   ],
   "id": "484b23275dee2fab"
  },
  {
   "metadata": {},
   "cell_type": "code",
   "outputs": [],
   "execution_count": null,
   "source": [
    "process_areas = process_area.chunk(num_chunks=2)\n",
    "\n",
    "for process_area in process_areas:\n",
    "    print(process_area.coordinates)"
   ],
   "id": "8bd6a5095eaa719a"
  },
  {
   "metadata": {},
   "cell_type": "markdown",
   "source": [
    "# Filter the process area\n",
    "\n",
    "TODO"
   ],
   "id": "77a1ae2f99bea63c"
  },
  {
   "metadata": {},
   "cell_type": "markdown",
   "source": [
    "# Convert the process area to a geodataframe\n",
    "\n",
    "You can convert the process area to a geodataframe with the `to_gdf` method."
   ],
   "id": "db013e19b176171f"
  },
  {
   "metadata": {},
   "cell_type": "code",
   "outputs": [],
   "execution_count": null,
   "source": [
    "coordinates = np.array(\n",
    "    [\n",
    "        [363084, 5715326],\n",
    "        [363212, 5715326],\n",
    "        [363084, 5715454],\n",
    "        [363212, 5715454],\n",
    "    ],\n",
    "    dtype=np.int32,\n",
    ")\n",
    "process_area = aviary.ProcessArea(coordinates=coordinates)\n",
    "\n",
    "print(process_area.coordinates)"
   ],
   "id": "dad9f0cf20fff808"
  },
  {
   "metadata": {},
   "cell_type": "code",
   "outputs": [],
   "execution_count": null,
   "source": [
    "gdf = process_area.to_gdf(\n",
    "    epsg_code=25832,\n",
    "    tile_size=128,\n",
    ")\n",
    "\n",
    "print(gdf)"
   ],
   "id": "c773a0c07ab1e2c5"
  },
  {
   "metadata": {},
   "cell_type": "markdown",
   "source": [
    "# Convert the process area to a json string\n",
    "\n",
    "You can convert the process area to a json string with the `to_json` method."
   ],
   "id": "d3b3284cf59aaf4d"
  },
  {
   "metadata": {},
   "cell_type": "code",
   "outputs": [],
   "execution_count": null,
   "source": [
    "coordinates = np.array(\n",
    "    [\n",
    "        [363084, 5715326],\n",
    "        [363212, 5715326],\n",
    "        [363084, 5715454],\n",
    "        [363212, 5715454],\n",
    "    ],\n",
    "    dtype=np.int32,\n",
    ")\n",
    "process_area = aviary.ProcessArea(coordinates=coordinates)\n",
    "\n",
    "print(process_area.coordinates)"
   ],
   "id": "cc20fe734b11c9c7"
  },
  {
   "metadata": {},
   "cell_type": "code",
   "outputs": [],
   "execution_count": null,
   "source": [
    "json_string = process_area.to_json()\n",
    "\n",
    "print(json_string)"
   ],
   "id": "ad9238e05c85e827"
  }
 ],
 "metadata": {
  "kernelspec": {
   "display_name": "Python 3",
   "language": "python",
   "name": "python3"
  },
  "language_info": {
   "codemirror_mode": {
    "name": "ipython",
    "version": 2
   },
   "file_extension": ".py",
   "mimetype": "text/x-python",
   "name": "python",
   "nbconvert_exporter": "python",
   "pygments_lexer": "ipython2",
   "version": "2.7.6"
  }
 },
 "nbformat": 4,
 "nbformat_minor": 5
}
