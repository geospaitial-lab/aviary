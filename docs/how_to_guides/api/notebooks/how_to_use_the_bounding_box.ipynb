{
 "cells": [
  {
   "metadata": {},
   "cell_type": "markdown",
   "source": [
    "# How to use the bounding box\n",
    "\n",
    "Follow along this step-by-step guide to learn about the [`BoundingBox`](https://geospaitial-lab.github.io/aviary/api_reference/bounding_box).\n",
    "\n",
    "To avoid any issues, run the cells in order and don't skip any cells.<br />\n",
    "If something seems off, just restart the runtime and run the cells again."
   ],
   "id": "34ea408a966bb470"
  },
  {
   "metadata": {},
   "cell_type": "markdown",
   "source": [
    "# Install aviary\n",
    "\n",
    "Install aviary in the current runtime using pip."
   ],
   "id": "1bffa9518aa70265"
  },
  {
   "cell_type": "code",
   "id": "initial_id",
   "metadata": {
    "collapsed": true
   },
   "source": "! pip install -q geospaitial-lab-aviary",
   "outputs": [],
   "execution_count": null
  },
  {
   "metadata": {},
   "cell_type": "markdown",
   "source": "# Import aviary and verify the installation",
   "id": "78dc625552d67613"
  },
  {
   "metadata": {},
   "cell_type": "code",
   "source": [
    "import aviary\n",
    "\n",
    "print(aviary.__version__)"
   ],
   "id": "7e35d3fb1ada9ad7",
   "outputs": [],
   "execution_count": null
  },
  {
   "metadata": {},
   "cell_type": "markdown",
   "source": [
    "# Create a bounding box\n",
    "\n",
    "A bounding box specifies the spatial extent of an area of interest.\n",
    "\n",
    "You can pass the coordinates to the initializer of the\n",
    "[`BoundingBox`](https://geospaitial-lab.github.io/aviary/api_reference/bounding_box).<br />\n",
    "You can access the coordinates of the bounding box with the `x_min`, `y_min`, `x_max` and `y_max` attributes."
   ],
   "id": "46661b6bdced9cd2"
  },
  {
   "metadata": {},
   "cell_type": "code",
   "source": [
    "bounding_box = aviary.BoundingBox(\n",
    "    x_min=363084,\n",
    "    y_min=5715326,\n",
    "    x_max=363340,\n",
    "    y_max=5715582,\n",
    ")\n",
    "\n",
    "print(bounding_box.x_min)\n",
    "print(bounding_box.y_min)\n",
    "print(bounding_box.x_max)\n",
    "print(bounding_box.y_max)"
   ],
   "id": "5835a67510894025",
   "outputs": [],
   "execution_count": null
  },
  {
   "metadata": {},
   "cell_type": "markdown",
   "source": [
    "We can visualize the bounding box with [folium](https://python-visualization.github.io/folium/latest) for a better understanding.\n",
    "\n",
    "Install folium in the current runtime using pip."
   ],
   "id": "3615536b0120fa06"
  },
  {
   "metadata": {},
   "cell_type": "code",
   "source": "! pip install -q folium",
   "id": "46b2d8b30378851a",
   "outputs": [],
   "execution_count": null
  },
  {
   "metadata": {},
   "cell_type": "markdown",
   "source": "We define a function `visualize_bounding_box`, so that we can reuse it in the next steps.",
   "id": "d831a66c96659f4a"
  },
  {
   "metadata": {},
   "cell_type": "code",
   "source": [
    "import folium\n",
    "import geopandas as gpd\n",
    "\n",
    "\n",
    "def visualize_bounding_box(\n",
    "    bounding_box: aviary.BoundingBox,\n",
    "    zoom_start: int = 16,\n",
    ") -> folium.Map:\n",
    "    # Convert the bounding box to a geodataframe\n",
    "    gdf = bounding_box.to_gdf(epsg_code=25832)\n",
    "\n",
    "    # Compute the centroid of the bounding box\n",
    "    centroid = gpd.GeoDataFrame(\n",
    "        geometry=[gdf.union_all().centroid],\n",
    "        crs=gdf.crs,\n",
    "    )\n",
    "\n",
    "    # Convert the centroid to EPSG:4326 (folium requires EPSG:4326)\n",
    "    centroid_epsg_4326 = centroid.to_crs(epsg=4326)\n",
    "\n",
    "    # Compute the location of the folium map\n",
    "    location_epsg_4326 = [\n",
    "        centroid_epsg_4326.geometry.y.mean(),\n",
    "        centroid_epsg_4326.geometry.x.mean(),\n",
    "    ]\n",
    "\n",
    "    # Convert the bounding box to EPSG:4326 (folium requires EPSG:4326)\n",
    "    gdf_epsg_4326 = gdf.to_crs(epsg=4326)\n",
    "\n",
    "    # Create a folium map\n",
    "    folium_map = folium.Map(\n",
    "        location=location_epsg_4326,\n",
    "        zoom_start=zoom_start,\n",
    "        tiles=None,\n",
    "    )\n",
    "\n",
    "    # Add OpenStreetMap tiles to the folium map\n",
    "    folium.TileLayer(\n",
    "        tiles='OpenStreetMap',\n",
    "        control=False,\n",
    "    ).add_to(folium_map)\n",
    "\n",
    "    # Add orthophotos layer to the folium map\n",
    "    folium.raster_layers.WmsTileLayer(\n",
    "        url='https://www.wms.nrw.de/geobasis/wms_nw_dop',\n",
    "        layers='nw_dop_rgb',\n",
    "        fmt='image/png',\n",
    "        transparent=True,\n",
    "        version='1.3.0',\n",
    "        attr='<a href=\"https://www.bezreg-koeln.nrw.de/geobasis-nrw\">Geobasis NRW</a>',\n",
    "        name='Orthophotos',\n",
    "        show=False,\n",
    "    ).add_to(folium_map)\n",
    "\n",
    "    # Define the style of the bounding box\n",
    "    style_function = lambda feature: {\n",
    "        'fillOpacity': .2,\n",
    "        'color': 'black',\n",
    "        'weight': 2,\n",
    "    }\n",
    "\n",
    "    # Add the bounding box to the folium map\n",
    "    folium.GeoJson(\n",
    "        data=gdf_epsg_4326,\n",
    "        style_function=style_function,\n",
    "        control=False,\n",
    "    ).add_to(folium_map)\n",
    "\n",
    "    # Add layer control to the folium map\n",
    "    folium.LayerControl(\n",
    "        collapsed=False,\n",
    "    ).add_to(folium_map)\n",
    "\n",
    "    return folium_map"
   ],
   "id": "585ebaef6f26fba6",
   "outputs": [],
   "execution_count": null
  },
  {
   "metadata": {},
   "cell_type": "markdown",
   "source": "Now we can visualize the bounding box.",
   "id": "9391aed3b42b2003"
  },
  {
   "metadata": {},
   "cell_type": "code",
   "source": [
    "folium_map = visualize_bounding_box(bounding_box=bounding_box)\n",
    "\n",
    "folium_map"
   ],
   "id": "e0068d4493bb4329",
   "outputs": [],
   "execution_count": null
  },
  {
   "metadata": {},
   "cell_type": "markdown",
   "source": "You can set the coordinates of an already created bounding box with the `x_min`, `y_min`, `x_max` and `y_max` attributes.",
   "id": "29fb989bdbc7b854"
  },
  {
   "metadata": {},
   "cell_type": "code",
   "source": [
    "bounding_box.x_min = 363148\n",
    "bounding_box.y_min = 5715390\n",
    "bounding_box.x_max = 363276\n",
    "bounding_box.y_max = 5715518\n",
    "\n",
    "print(bounding_box.x_min)\n",
    "print(bounding_box.y_min)\n",
    "print(bounding_box.x_max)\n",
    "print(bounding_box.y_max)"
   ],
   "id": "72c09f5419fc18df",
   "outputs": [],
   "execution_count": null
  },
  {
   "metadata": {},
   "cell_type": "markdown",
   "source": "Visualize the bounding box.",
   "id": "d3890060cd2f5569"
  },
  {
   "metadata": {},
   "cell_type": "code",
   "source": [
    "folium_map = visualize_bounding_box(bounding_box=bounding_box)\n",
    "\n",
    "folium_map"
   ],
   "id": "3f81d7723d8341f",
   "outputs": [],
   "execution_count": null
  },
  {
   "metadata": {},
   "cell_type": "markdown",
   "source": [
    "A bounding box is an iterable object, so it supports indexing, length and iteration.\n",
    "\n",
    "You can access the coordinates of the bounding box with the index operator."
   ],
   "id": "86cf046c91a804e"
  },
  {
   "metadata": {},
   "cell_type": "code",
   "outputs": [],
   "execution_count": null,
   "source": [
    "x_min = bounding_box[0]\n",
    "y_min = bounding_box[1]\n",
    "x_max = bounding_box[2]\n",
    "y_max = bounding_box[3]\n",
    "\n",
    "print(x_min)\n",
    "print(y_min)\n",
    "print(x_max)\n",
    "print(y_max)"
   ],
   "id": "edca2cd687525ecd"
  },
  {
   "metadata": {},
   "cell_type": "markdown",
   "source": "You can also unpack its coordinates.",
   "id": "ebc23d67a76adc1"
  },
  {
   "metadata": {},
   "cell_type": "code",
   "outputs": [],
   "execution_count": null,
   "source": [
    "x_min, y_min, x_max, y_max = bounding_box\n",
    "\n",
    "print(x_min)\n",
    "print(y_min)\n",
    "print(x_max)\n",
    "print(y_max)"
   ],
   "id": "93a62bf1deac4317"
  },
  {
   "metadata": {},
   "cell_type": "markdown",
   "source": "A bounding box has a length, which is obviously 4.",
   "id": "a6f2f52ef442b6b8"
  },
  {
   "metadata": {},
   "cell_type": "code",
   "outputs": [],
   "execution_count": null,
   "source": "print(len(bounding_box))",
   "id": "63877417b9dd1273"
  },
  {
   "metadata": {},
   "cell_type": "markdown",
   "source": "You can iterate over the coordinates of the bounding box.",
   "id": "7a749bb281beef93"
  },
  {
   "metadata": {},
   "cell_type": "code",
   "outputs": [],
   "execution_count": null,
   "source": [
    "for coordinate in bounding_box:\n",
    "    print(coordinate)"
   ],
   "id": "15e6fd3215f24516"
  },
  {
   "metadata": {},
   "cell_type": "markdown",
   "source": [
    "## Create a bounding box from a geodataframe\n",
    "\n",
    "You can create a bounding box from a geodataframe with the\n",
    "[`from_gdf`](https://geospaitial-lab.github.io/aviary/api_reference/bounding_box/#aviary.BoundingBox.from_gdf) class method."
   ],
   "id": "c6b2cbb0e0a566d4"
  },
  {
   "metadata": {},
   "cell_type": "code",
   "source": [
    "from shapely.geometry import box\n",
    "\n",
    "gdf = gpd.GeoDataFrame(\n",
    "    geometry=[box(363084, 5715326, 363340, 5715582)],\n",
    "    crs='EPSG:25832',\n",
    ")\n",
    "bounding_box = aviary.BoundingBox.from_gdf(gdf=gdf)\n",
    "\n",
    "print(bounding_box.x_min)\n",
    "print(bounding_box.y_min)\n",
    "print(bounding_box.x_max)\n",
    "print(bounding_box.y_max)"
   ],
   "id": "c9cd36a0f6e7870c",
   "outputs": [],
   "execution_count": null
  },
  {
   "metadata": {},
   "cell_type": "markdown",
   "source": "Visualize the bounding box.",
   "id": "786c6146bf7e82e8"
  },
  {
   "metadata": {},
   "cell_type": "code",
   "source": [
    "folium_map = visualize_bounding_box(bounding_box=bounding_box)\n",
    "\n",
    "# Convert the geodataframe to EPSG:4326 (folium requires EPSG:4326)\n",
    "gdf_epsg_4326 = gdf.to_crs(epsg=4326)\n",
    "\n",
    "# Define the style of the geodataframe (red)\n",
    "style_function = lambda feature: {\n",
    "    'fillOpacity': 0.,\n",
    "    'color': '#FF595E',\n",
    "    'weight': 2,\n",
    "}\n",
    "\n",
    "# Add the geodataframe to the folium map\n",
    "folium.GeoJson(gdf_epsg_4326, style_function=style_function).add_to(folium_map)\n",
    "\n",
    "folium_map"
   ],
   "id": "5381c8a186353a8c",
   "outputs": [],
   "execution_count": null
  },
  {
   "metadata": {},
   "cell_type": "markdown",
   "source": "The geodataframe may contain multiple polygons, e.g. the northern districts of Gelsenkirchen.",
   "id": "95dea6371e481d0e"
  },
  {
   "metadata": {},
   "cell_type": "code",
   "source": [
    "url = (\n",
    "    'https://raw.githubusercontent.com/geospaitial-lab/aviary/main'\n",
    "    '/docs/how_to_guides/api/data/districts.geojson'\n",
    ")\n",
    "gdf = gpd.read_file(url)\n",
    "bounding_box = aviary.BoundingBox.from_gdf(gdf=gdf)\n",
    "\n",
    "print(bounding_box.x_min)\n",
    "print(bounding_box.y_min)\n",
    "print(bounding_box.x_max)\n",
    "print(bounding_box.y_max)"
   ],
   "id": "c3d0759711d02682",
   "outputs": [],
   "execution_count": null
  },
  {
   "metadata": {},
   "cell_type": "markdown",
   "source": "Visualize the bounding box.",
   "id": "85f4b27a5ba49e1d"
  },
  {
   "metadata": {},
   "cell_type": "code",
   "source": [
    "folium_map = visualize_bounding_box(\n",
    "    bounding_box=bounding_box,\n",
    "    zoom_start=12,\n",
    ")\n",
    "\n",
    "# Convert the districts to EPSG:4326 (folium requires EPSG:4326)\n",
    "gdf_epsg_4326 = gdf.to_crs(epsg=4326)\n",
    "\n",
    "# Define the style of the districts (red)\n",
    "style_function = lambda feature: {\n",
    "    'fillOpacity': 0.,\n",
    "    'color': '#FF595E',\n",
    "    'weight': 2,\n",
    "}\n",
    "\n",
    "# Add the districts to the folium map\n",
    "folium.GeoJson(gdf_epsg_4326, style_function=style_function).add_to(folium_map)\n",
    "\n",
    "folium_map"
   ],
   "id": "5162f0c082b2b61",
   "outputs": [],
   "execution_count": null
  },
  {
   "metadata": {},
   "cell_type": "markdown",
   "source": [
    "# Buffer the bounding box\n",
    "\n",
    "You can expand the bounding box with the\n",
    "[`buffer`](https://geospaitial-lab.github.io/aviary/api_reference/bounding_box/#aviary.BoundingBox.buffer) method."
   ],
   "id": "fbdc19d80077db5d"
  },
  {
   "metadata": {},
   "cell_type": "code",
   "source": [
    "bounding_box = aviary.BoundingBox(\n",
    "    x_min=363084,\n",
    "    y_min=5715326,\n",
    "    x_max=363340,\n",
    "    y_max=5715582,\n",
    ")\n",
    "\n",
    "print(bounding_box.x_min)\n",
    "print(bounding_box.y_min)\n",
    "print(bounding_box.x_max)\n",
    "print(bounding_box.y_max)"
   ],
   "id": "64e9e6da01799d77",
   "outputs": [],
   "execution_count": null
  },
  {
   "metadata": {},
   "cell_type": "code",
   "source": [
    "buffered_bounding_box = bounding_box.buffer(buffer_size=64)\n",
    "\n",
    "print(buffered_bounding_box.x_min)\n",
    "print(buffered_bounding_box.y_min)\n",
    "print(buffered_bounding_box.x_max)\n",
    "print(buffered_bounding_box.y_max)"
   ],
   "id": "d5f6e38b751a6d1f",
   "outputs": [],
   "execution_count": null
  },
  {
   "metadata": {},
   "cell_type": "markdown",
   "source": "Visualize the bounding box.",
   "id": "d05d80e066750485"
  },
  {
   "metadata": {},
   "cell_type": "code",
   "source": [
    "folium_map = visualize_bounding_box(bounding_box=buffered_bounding_box)\n",
    "\n",
    "# Convert the original bounding box to a geodataframe\n",
    "gdf = bounding_box.to_gdf(epsg_code=25832)\n",
    "\n",
    "# Convert the original bounding box to EPSG:4326 (folium requires EPSG:4326)\n",
    "gdf_epsg_4326 = gdf.to_crs(epsg=4326)\n",
    "\n",
    "# Define the style of the original bounding box (red)\n",
    "style_function = lambda feature: {\n",
    "    'fillOpacity': 0.,\n",
    "    'color': '#FF595E',\n",
    "    'weight': 2,\n",
    "}\n",
    "\n",
    "# Add the original bounding box to the folium map\n",
    "folium.GeoJson(gdf_epsg_4326, style_function=style_function).add_to(folium_map)\n",
    "\n",
    "folium_map"
   ],
   "id": "dc9acad808186c3",
   "outputs": [],
   "execution_count": null
  },
  {
   "metadata": {},
   "cell_type": "markdown",
   "source": [
    "You can also shrink the bounding box with the\n",
    "[`buffer`](https://geospaitial-lab.github.io/aviary/api_reference/bounding_box/#aviary.BoundingBox.buffer) method."
   ],
   "id": "b9f1444f8d3e4050"
  },
  {
   "metadata": {},
   "cell_type": "code",
   "source": [
    "bounding_box = aviary.BoundingBox(\n",
    "    x_min=363084,\n",
    "    y_min=5715326,\n",
    "    x_max=363340,\n",
    "    y_max=5715582,\n",
    ")\n",
    "\n",
    "print(bounding_box.x_min)\n",
    "print(bounding_box.y_min)\n",
    "print(bounding_box.x_max)\n",
    "print(bounding_box.y_max)"
   ],
   "id": "709403995a17e4dd",
   "outputs": [],
   "execution_count": null
  },
  {
   "metadata": {},
   "cell_type": "code",
   "source": [
    "buffered_bounding_box = bounding_box.buffer(buffer_size=-64)\n",
    "\n",
    "print(buffered_bounding_box.x_min)\n",
    "print(buffered_bounding_box.y_min)\n",
    "print(buffered_bounding_box.x_max)\n",
    "print(buffered_bounding_box.y_max)"
   ],
   "id": "c0fe8e3b203fdc12",
   "outputs": [],
   "execution_count": null
  },
  {
   "metadata": {},
   "cell_type": "markdown",
   "source": "Visualize the bounding box.",
   "id": "c30df50594c5fc0"
  },
  {
   "metadata": {},
   "cell_type": "code",
   "source": [
    "folium_map = visualize_bounding_box(bounding_box=buffered_bounding_box)\n",
    "\n",
    "# Convert the original bounding box to a geodataframe\n",
    "gdf = bounding_box.to_gdf(epsg_code=25832)\n",
    "\n",
    "# Convert the original bounding box to EPSG:4326 (folium requires EPSG:4326)\n",
    "gdf_epsg_4326 = gdf.to_crs(epsg=4326)\n",
    "\n",
    "# Define the style of the original bounding box (red)\n",
    "style_function = lambda feature: {\n",
    "    'fillOpacity': 0.,\n",
    "    'color': '#FF595E',\n",
    "    'weight': 2,\n",
    "}\n",
    "\n",
    "# Add the original bounding box to the folium map\n",
    "folium.GeoJson(gdf_epsg_4326, style_function=style_function).add_to(folium_map)\n",
    "\n",
    "folium_map"
   ],
   "id": "57bfba54b67ec029",
   "outputs": [],
   "execution_count": null
  },
  {
   "metadata": {},
   "cell_type": "markdown",
   "source": [
    "# Quantize the bounding box\n",
    "\n",
    "You can align the bounding box to a grid with the\n",
    "[`quantize`](https://geospaitial-lab.github.io/aviary/api_reference/bounding_box/#aviary.BoundingBox.quantize) method."
   ],
   "id": "a65e153f3a414983"
  },
  {
   "metadata": {},
   "cell_type": "code",
   "source": [
    "bounding_box = aviary.BoundingBox(\n",
    "    x_min=363084,\n",
    "    y_min=5715326,\n",
    "    x_max=363340,\n",
    "    y_max=5715582,\n",
    ")\n",
    "\n",
    "print(bounding_box.x_min)\n",
    "print(bounding_box.y_min)\n",
    "print(bounding_box.x_max)\n",
    "print(bounding_box.y_max)"
   ],
   "id": "9985d9d60cd5eb4",
   "outputs": [],
   "execution_count": null
  },
  {
   "metadata": {},
   "cell_type": "code",
   "source": [
    "quantized_bounding_box = bounding_box.quantize(value=128)\n",
    "\n",
    "print(quantized_bounding_box.x_min)\n",
    "print(quantized_bounding_box.y_min)\n",
    "print(quantized_bounding_box.x_max)\n",
    "print(quantized_bounding_box.y_max)"
   ],
   "id": "9ef0f0e29eb8a4b0",
   "outputs": [],
   "execution_count": null
  },
  {
   "metadata": {},
   "cell_type": "markdown",
   "source": "Visualize the bounding box.",
   "id": "c8b356f0b5087914"
  },
  {
   "metadata": {},
   "cell_type": "code",
   "source": [
    "folium_map = visualize_bounding_box(bounding_box=quantized_bounding_box)\n",
    "\n",
    "# Convert the original bounding box to a geodataframe\n",
    "gdf = bounding_box.to_gdf(epsg_code=25832)\n",
    "\n",
    "# Convert the original bounding box to EPSG:4326 (folium requires EPSG:4326)\n",
    "gdf_epsg_4326 = gdf.to_crs(epsg=4326)\n",
    "\n",
    "# Define the style of the original bounding box (red)\n",
    "style_function = lambda feature: {\n",
    "    'fillOpacity': 0.,\n",
    "    'color': '#FF595E',\n",
    "    'weight': 2,\n",
    "}\n",
    "\n",
    "# Add the original bounding box to the folium map\n",
    "folium.GeoJson(gdf_epsg_4326, style_function=style_function).add_to(folium_map)\n",
    "\n",
    "folium_map"
   ],
   "id": "3c75911c97b094b3",
   "outputs": [],
   "execution_count": null
  },
  {
   "metadata": {},
   "cell_type": "markdown",
   "source": [
    "# Convert the bounding box to a geodataframe\n",
    "\n",
    "You can convert the bounding box to a geodataframe with the\n",
    "[`to_gdf`](https://geospaitial-lab.github.io/aviary/api_reference/bounding_box/#aviary.BoundingBox.to_gdf) method."
   ],
   "id": "b9c99201e69360ab"
  },
  {
   "metadata": {},
   "cell_type": "code",
   "source": [
    "bounding_box = aviary.BoundingBox(\n",
    "    x_min=363084,\n",
    "    y_min=5715326,\n",
    "    x_max=363340,\n",
    "    y_max=5715582,\n",
    ")\n",
    "\n",
    "print(bounding_box.x_min)\n",
    "print(bounding_box.y_min)\n",
    "print(bounding_box.x_max)\n",
    "print(bounding_box.y_max)"
   ],
   "id": "bb6822c0e6a2c75c",
   "outputs": [],
   "execution_count": null
  },
  {
   "metadata": {},
   "cell_type": "code",
   "source": [
    "gdf = bounding_box.to_gdf(epsg_code=25832)\n",
    "\n",
    "print(gdf)"
   ],
   "id": "3b0f62db61de4e7d",
   "outputs": [],
   "execution_count": null
  }
 ],
 "metadata": {
  "kernelspec": {
   "display_name": "Python 3",
   "language": "python",
   "name": "python3"
  },
  "language_info": {
   "codemirror_mode": {
    "name": "ipython",
    "version": 2
   },
   "file_extension": ".py",
   "mimetype": "text/x-python",
   "name": "python",
   "nbconvert_exporter": "python",
   "pygments_lexer": "ipython2",
   "version": "2.7.6"
  }
 },
 "nbformat": 4,
 "nbformat_minor": 5
}
